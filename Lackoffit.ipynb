{
 "cells": [
  {
   "cell_type": "markdown",
   "metadata": {},
   "source": [
    "# DETECTING LACK OF FIT IN SIMPLE LINEAR REGRESSION:\n",
    "\n",
    "# INFLUENCE OF TRANSISTOR EMITTER DRIVE-IN TIME IN TRANSISTOR GAIN\n",
    "\n",
    "Transistor gain between emitter and collector in an integrated circuit device (hFE) is related to two variables (Myers, Montgomery and Anderson-Cook, 2009) that can be controlled at the deposition process, emitter drive-in time (x1, in minutes) and emitter dose (x2, in ions × 1014). Fourteen samples were observed following deposition, and the resulting data are shown\n",
    "in the table below. We will consider linear regression models using gain as the response and emitter drive-in time or emitter dose as the regressor variable.\n",
    "\n",
    "Two questions are investigated here:\n",
    "\n",
    "a) Does the emitter drive-in influence gain in a linear relationship ? \\\n",
    "b) Does the emitter dose influence gain in a linear relationship ?\n",
    "\n",
    "Source: Probability & statistics for engineers & scientists/Ronald E. Walpole"
   ]
  },
  {
   "cell_type": "code",
   "execution_count": 11,
   "metadata": {},
   "outputs": [],
   "source": [
    "import pandas as pd\n",
    "import matplotlib.pyplot as plt\n",
    "import numpy as np\n",
    "import seaborn as sns \n",
    "from scipy.stats import *\n",
    "import scipy.stats as stats\n",
    "\n",
    "\n",
    "#Linear regression library\n",
    "from sklearn.linear_model import *\n",
    "from sklearn.preprocessing import *\n",
    "from sklearn.model_selection import *\n",
    "from sklearn.metrics import r2_score"
   ]
  },
  {
   "cell_type": "code",
   "execution_count": 2,
   "metadata": {},
   "outputs": [
    {
     "data": {
      "text/html": [
       "<div>\n",
       "<style scoped>\n",
       "    .dataframe tbody tr th:only-of-type {\n",
       "        vertical-align: middle;\n",
       "    }\n",
       "\n",
       "    .dataframe tbody tr th {\n",
       "        vertical-align: top;\n",
       "    }\n",
       "\n",
       "    .dataframe thead th {\n",
       "        text-align: right;\n",
       "    }\n",
       "</style>\n",
       "<table border=\"1\" class=\"dataframe\">\n",
       "  <thead>\n",
       "    <tr style=\"text-align: right;\">\n",
       "      <th></th>\n",
       "      <th>Observações</th>\n",
       "      <th>Drive-in Time</th>\n",
       "      <th>Dose Ion</th>\n",
       "      <th>gain</th>\n",
       "    </tr>\n",
       "  </thead>\n",
       "  <tbody>\n",
       "    <tr>\n",
       "      <th>0</th>\n",
       "      <td>1</td>\n",
       "      <td>195</td>\n",
       "      <td>4.00</td>\n",
       "      <td>1004</td>\n",
       "    </tr>\n",
       "    <tr>\n",
       "      <th>1</th>\n",
       "      <td>2</td>\n",
       "      <td>255</td>\n",
       "      <td>4.00</td>\n",
       "      <td>1636</td>\n",
       "    </tr>\n",
       "    <tr>\n",
       "      <th>2</th>\n",
       "      <td>3</td>\n",
       "      <td>195</td>\n",
       "      <td>4.60</td>\n",
       "      <td>852</td>\n",
       "    </tr>\n",
       "    <tr>\n",
       "      <th>3</th>\n",
       "      <td>4</td>\n",
       "      <td>255</td>\n",
       "      <td>4.60</td>\n",
       "      <td>1506</td>\n",
       "    </tr>\n",
       "    <tr>\n",
       "      <th>4</th>\n",
       "      <td>5</td>\n",
       "      <td>255</td>\n",
       "      <td>4.20</td>\n",
       "      <td>1272</td>\n",
       "    </tr>\n",
       "    <tr>\n",
       "      <th>5</th>\n",
       "      <td>6</td>\n",
       "      <td>255</td>\n",
       "      <td>4.10</td>\n",
       "      <td>1270</td>\n",
       "    </tr>\n",
       "    <tr>\n",
       "      <th>6</th>\n",
       "      <td>7</td>\n",
       "      <td>255</td>\n",
       "      <td>4.60</td>\n",
       "      <td>1269</td>\n",
       "    </tr>\n",
       "    <tr>\n",
       "      <th>7</th>\n",
       "      <td>8</td>\n",
       "      <td>195</td>\n",
       "      <td>4.30</td>\n",
       "      <td>903</td>\n",
       "    </tr>\n",
       "    <tr>\n",
       "      <th>8</th>\n",
       "      <td>9</td>\n",
       "      <td>255</td>\n",
       "      <td>4.30</td>\n",
       "      <td>1555</td>\n",
       "    </tr>\n",
       "    <tr>\n",
       "      <th>9</th>\n",
       "      <td>10</td>\n",
       "      <td>255</td>\n",
       "      <td>4.00</td>\n",
       "      <td>1260</td>\n",
       "    </tr>\n",
       "    <tr>\n",
       "      <th>10</th>\n",
       "      <td>11</td>\n",
       "      <td>255</td>\n",
       "      <td>4.70</td>\n",
       "      <td>1146</td>\n",
       "    </tr>\n",
       "    <tr>\n",
       "      <th>11</th>\n",
       "      <td>12</td>\n",
       "      <td>255</td>\n",
       "      <td>4.30</td>\n",
       "      <td>1276</td>\n",
       "    </tr>\n",
       "    <tr>\n",
       "      <th>12</th>\n",
       "      <td>13</td>\n",
       "      <td>255</td>\n",
       "      <td>4.72</td>\n",
       "      <td>1225</td>\n",
       "    </tr>\n",
       "    <tr>\n",
       "      <th>13</th>\n",
       "      <td>14</td>\n",
       "      <td>340</td>\n",
       "      <td>4.30</td>\n",
       "      <td>1321</td>\n",
       "    </tr>\n",
       "  </tbody>\n",
       "</table>\n",
       "</div>"
      ],
      "text/plain": [
       "    Observações  Drive-in Time  Dose Ion  gain\n",
       "0             1            195      4.00  1004\n",
       "1             2            255      4.00  1636\n",
       "2             3            195      4.60   852\n",
       "3             4            255      4.60  1506\n",
       "4             5            255      4.20  1272\n",
       "5             6            255      4.10  1270\n",
       "6             7            255      4.60  1269\n",
       "7             8            195      4.30   903\n",
       "8             9            255      4.30  1555\n",
       "9            10            255      4.00  1260\n",
       "10           11            255      4.70  1146\n",
       "11           12            255      4.30  1276\n",
       "12           13            255      4.72  1225\n",
       "13           14            340      4.30  1321"
      ]
     },
     "execution_count": 2,
     "metadata": {},
     "output_type": "execute_result"
    }
   ],
   "source": [
    "observacao = [i for i in range(1, 15)]\n",
    "drive_in_time = [195,255,195,255,255,255,255,195,255,255,255,255,255,340]\n",
    "dose_ion = [4,4,4.6,4.6,4.2,4.1,4.6,4.3,4.3,4,4.7,4.3,4.72,4.3]\n",
    "gain = [1004,1636,852,1506,1272,1270,1269,903,1555,1260,1146,1276,1225,1321]\n",
    "\n",
    "transistor_gain = pd.DataFrame({\"Observações\": observacao, \"Drive-in Time\": drive_in_time, \"Dose Ion\": dose_ion, \"gain\": gain})\n",
    "transistor_gain"
   ]
  },
  {
   "cell_type": "code",
   "execution_count": 3,
   "metadata": {},
   "outputs": [
    {
     "data": {
      "text/html": [
       "<div>\n",
       "<style scoped>\n",
       "    .dataframe tbody tr th:only-of-type {\n",
       "        vertical-align: middle;\n",
       "    }\n",
       "\n",
       "    .dataframe tbody tr th {\n",
       "        vertical-align: top;\n",
       "    }\n",
       "\n",
       "    .dataframe thead th {\n",
       "        text-align: right;\n",
       "    }\n",
       "</style>\n",
       "<table border=\"1\" class=\"dataframe\">\n",
       "  <thead>\n",
       "    <tr style=\"text-align: right;\">\n",
       "      <th></th>\n",
       "      <th>Observações</th>\n",
       "      <th>Drive-in Time</th>\n",
       "      <th>Dose Ion</th>\n",
       "      <th>gain</th>\n",
       "    </tr>\n",
       "  </thead>\n",
       "  <tbody>\n",
       "    <tr>\n",
       "      <th>count</th>\n",
       "      <td>14.0000</td>\n",
       "      <td>14.000000</td>\n",
       "      <td>14.000000</td>\n",
       "      <td>14.000000</td>\n",
       "    </tr>\n",
       "    <tr>\n",
       "      <th>mean</th>\n",
       "      <td>7.5000</td>\n",
       "      <td>248.214286</td>\n",
       "      <td>4.337143</td>\n",
       "      <td>1249.642857</td>\n",
       "    </tr>\n",
       "    <tr>\n",
       "      <th>std</th>\n",
       "      <td>4.1833</td>\n",
       "      <td>36.564334</td>\n",
       "      <td>0.264151</td>\n",
       "      <td>226.237998</td>\n",
       "    </tr>\n",
       "    <tr>\n",
       "      <th>min</th>\n",
       "      <td>1.0000</td>\n",
       "      <td>195.000000</td>\n",
       "      <td>4.000000</td>\n",
       "      <td>852.000000</td>\n",
       "    </tr>\n",
       "    <tr>\n",
       "      <th>25%</th>\n",
       "      <td>4.2500</td>\n",
       "      <td>255.000000</td>\n",
       "      <td>4.125000</td>\n",
       "      <td>1165.750000</td>\n",
       "    </tr>\n",
       "    <tr>\n",
       "      <th>50%</th>\n",
       "      <td>7.5000</td>\n",
       "      <td>255.000000</td>\n",
       "      <td>4.300000</td>\n",
       "      <td>1269.500000</td>\n",
       "    </tr>\n",
       "    <tr>\n",
       "      <th>75%</th>\n",
       "      <td>10.7500</td>\n",
       "      <td>255.000000</td>\n",
       "      <td>4.600000</td>\n",
       "      <td>1309.750000</td>\n",
       "    </tr>\n",
       "    <tr>\n",
       "      <th>max</th>\n",
       "      <td>14.0000</td>\n",
       "      <td>340.000000</td>\n",
       "      <td>4.720000</td>\n",
       "      <td>1636.000000</td>\n",
       "    </tr>\n",
       "  </tbody>\n",
       "</table>\n",
       "</div>"
      ],
      "text/plain": [
       "       Observações  Drive-in Time   Dose Ion         gain\n",
       "count      14.0000      14.000000  14.000000    14.000000\n",
       "mean        7.5000     248.214286   4.337143  1249.642857\n",
       "std         4.1833      36.564334   0.264151   226.237998\n",
       "min         1.0000     195.000000   4.000000   852.000000\n",
       "25%         4.2500     255.000000   4.125000  1165.750000\n",
       "50%         7.5000     255.000000   4.300000  1269.500000\n",
       "75%        10.7500     255.000000   4.600000  1309.750000\n",
       "max        14.0000     340.000000   4.720000  1636.000000"
      ]
     },
     "execution_count": 3,
     "metadata": {},
     "output_type": "execute_result"
    }
   ],
   "source": [
    "transistor_gain.describe()"
   ]
  },
  {
   "cell_type": "markdown",
   "metadata": {},
   "source": [
    "# Hypothesis testing\n",
    "\n",
    "In order to asnwer both questions above, the  hypothesis test will be done on the slope \"m\" of the regressor variable \"x\". Let's remember the linear regression equation: \\\n",
    "y = mx + b\n",
    "\n",
    "where m is the slope of regressor variable;\\\n",
    "      b is the intercept\n",
    "      \n",
    "The null Ho e alternative Ha for both questions above are:\\\n",
    "\n",
    "Ho: The emitter parameter does not influence gain in a linear relationship, i.e, m = 0 \\\n",
    "Ha: The emitter parameter influences gain in a linear relationship, i.e, m != 0 (read m is not null) \\\n",
    "\n",
    "where parameter is drive-in time or gain"
   ]
  },
  {
   "cell_type": "markdown",
   "metadata": {},
   "source": [
    "# Select drive-in time as emitter parameter"
   ]
  },
  {
   "cell_type": "code",
   "execution_count": 24,
   "metadata": {},
   "outputs": [
    {
     "name": "stdout",
     "output_type": "stream",
     "text": [
      "3.7663824103565196 314.7729374293639 0.6087185483433857 0.02087604658117971\n"
     ]
    }
   ],
   "source": [
    "x_1 = np.array(transistor_gain['Drive-in Time'])\n",
    "y_1 = np.array(transistor_gain['gain'])\n",
    "slope, intercept, r_value, p_value, std_err = stats.linregress(x_1,y_1)\n",
    "print(slope, intercept, r_value, p_value)"
   ]
  },
  {
   "cell_type": "code",
   "execution_count": 25,
   "metadata": {},
   "outputs": [
    {
     "name": "stdout",
     "output_type": "stream",
     "text": [
      "Reject the Null Hypothesis,.i.e , the emitter drive-in time influences gain in a linear relationship\n"
     ]
    }
   ],
   "source": [
    "if p_value < 0.05:\n",
    "    print(\"Reject the Null Hypothesis,.i.e , the emitter drive-in time influences gain in a linear relationship\")\n",
    "else:\n",
    "    print(\"Fail to reject the null hypothesis, i.e, the emitter drive-in time does not influence gain in a linear realtionship\")"
   ]
  },
  {
   "cell_type": "markdown",
   "metadata": {},
   "source": [
    "# Select Emitter Gain as the regressor variable"
   ]
  },
  {
   "cell_type": "code",
   "execution_count": 26,
   "metadata": {},
   "outputs": [
    {
     "name": "stdout",
     "output_type": "stream",
     "text": [
      "-154.35617991684524 1919.10766032506 -0.18022330920741272 0.5375344615696482\n"
     ]
    }
   ],
   "source": [
    "x_2 = np.array(transistor_gain['Dose Ion'])\n",
    "slope, intercept, r_value, p_value, std_err = stats.linregress(x_2,y_1)\n",
    "print(slope, intercept, r_value, p_value)"
   ]
  },
  {
   "cell_type": "code",
   "execution_count": 27,
   "metadata": {},
   "outputs": [
    {
     "name": "stdout",
     "output_type": "stream",
     "text": [
      "Fail to reject the null hypothesis, i.e, the emitter dose does not influence gain in a linear realtionship\n"
     ]
    }
   ],
   "source": [
    "if p_value < 0.05:\n",
    "    print(\"Reject the Null Hypothesis,.i.e , the emitter dose influences gain in a linear relationship\")\n",
    "else:\n",
    "    print(\"Fail to reject the null hypothesis, i.e, the emitter dose does not influence gain in a linear realtionship\")"
   ]
  },
  {
   "cell_type": "code",
   "execution_count": 14,
   "metadata": {},
   "outputs": [
    {
     "name": "stdout",
     "output_type": "stream",
     "text": [
      "[[7.42430556]]\n",
      "[-528.07291667]\n",
      "-103.9562385003732\n",
      "-0.06814409208330963\n"
     ]
    },
    {
     "data": {
      "image/png": "[encoded data removed]",
      "text/plain": [
       "<Figure size 864x576 with 1 Axes>"
      ]
     },
     "metadata": {
      "needs_background": "light"
     },
     "output_type": "display_data"
    }
   ],
   "source": [
    "x = transistor_gain[['Drive-in Time']]\n",
    "y = transistor_gain[['gain']]\n",
    "x_train, x_test, y_train, y_test = train_test_split(x, y, train_size = 0.8, test_size = 0.2, random_state = 6)\n",
    "\n",
    "transistor_model = LinearRegression()\n",
    "transistor_model.fit(x_train, y_train)\n",
    "gain_predict = transistor_model.predict(x)\n",
    "print(transistor_model.coef_)\n",
    "print(transistor_model.intercept_)\n",
    "print(transistor_model.score(x_test, y_test))\n",
    "print(r2_score(y, gain_predict))\n",
    "\n",
    "plt.subplots(1,1,figsize=(12,8))\n",
    "plt.scatter(x, y)\n",
    "plt.plot(x, gain_predict)\n",
    "plt.xlabel(\"Drive-in Time, min\")\n",
    "plt.ylabel(\"Gain\")\n",
    "plt.show()"
   ]
  },
  {
   "cell_type": "code",
   "execution_count": 18,
   "metadata": {},
   "outputs": [
    {
     "name": "stdout",
     "output_type": "stream",
     "text": [
      "[[-208.22714681]]\n",
      "[2135.22714681]\n",
      "-3.3845007053156033\n",
      "0.022060979390252422\n"
     ]
    },
    {
     "data": {
      "image/png": "[encoded data removed]",
      "text/plain": [
       "<Figure size 864x576 with 1 Axes>"
      ]
     },
     "metadata": {
      "needs_background": "light"
     },
     "output_type": "display_data"
    }
   ],
   "source": [
    "x = transistor_gain[['Dose Ion']]\n",
    "y = transistor_gain[['gain']]\n",
    "x_train, x_test, y_train, y_test = train_test_split(x, y, train_size = 0.8, test_size = 0.2, random_state = 6)\n",
    "\n",
    "transistor_model = LinearRegression()\n",
    "transistor_model.fit(x_train, y_train)\n",
    "gain_predict = transistor_model.predict(x)\n",
    "print(transistor_model.coef_)\n",
    "print(transistor_model.intercept_)\n",
    "print(transistor_model.score(x_test, y_test))\n",
    "print(r2_score(y, gain_predict))\n",
    "\n",
    "plt.subplots(1,1,figsize=(12,8))\n",
    "plt.scatter(x, y)\n",
    "plt.plot(x, gain_predict)\n",
    "plt.xlabel(\"Dose Ion\")\n",
    "plt.ylabel(\"Gain\")\n",
    "plt.show()"
   ]
  }
 ],
 "metadata": {
  "kernelspec": {
   "display_name": "Python 3",
   "language": "python",
   "name": "python3"
  },
  "language_info": {
   "codemirror_mode": {
    "name": "ipython",
    "version": 3
   },
   "file_extension": ".py",
   "mimetype": "text/x-python",
   "name": "python",
   "nbconvert_exporter": "python",
   "pygments_lexer": "ipython3",
   "version": "3.8.3"
  }
 },
 "nbformat": 4,
 "nbformat_minor": 4
}
