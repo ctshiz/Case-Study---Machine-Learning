{
 "cells": [
  {
   "cell_type": "markdown",
   "metadata": {},
   "source": [
    "# SIMPLE REGRESSION:\n",
    "\n",
    "# INFLUENCE OF ARM-STRENGTH TO DYNAMIC LIFT CHARACTERISTICS OF INDIVIDUAL\n",
    "\n",
    "A study was conducted at Virginia Tech to determine if certain static arm-strength measures have an influence on the \"dynamic lift\" characteristics of an individual. Twenty-five indiduals were subjected to strength tests and then were asked to perform a weight-lifting test in which weigh was dynamically lifted overhead. The data are given here: Individual, Arm_Strength, Dynamic_Lift\n",
    "\n",
    "Source: Probability & statistics for engineers & scientists/Ronald E. Walpole"
   ]
  },
  {
   "cell_type": "code",
   "execution_count": 2,
   "metadata": {},
   "outputs": [],
   "source": [
    "import pandas as pd\n",
    "import matplotlib.pyplot as plt\n",
    "import numpy as np\n",
    "import seaborn as sns \n",
    "from scipy.stats import *\n",
    "import scipy.stats as stats\n",
    "\n",
    "\n",
    "#Linear regression library\n",
    "from sklearn.linear_model import *\n",
    "from sklearn.preprocessing import *\n",
    "from sklearn.model_selection import *"
   ]
  },
  {
   "cell_type": "code",
   "execution_count": 3,
   "metadata": {},
   "outputs": [
    {
     "name": "stdout",
     "output_type": "stream",
     "text": [
      "    Individual  Arm_Strength  Dynamic Lift\n",
      "0            1          17.3          71.7\n",
      "1            2          19.3          48.3\n",
      "2            3          19.5          88.3\n",
      "3            4          19.7          75.0\n",
      "4            5          22.9          91.7\n",
      "5            6          23.1         100.0\n",
      "6            7          26.4          73.3\n",
      "7            8          26.8          65.0\n",
      "8            9          27.6          75.0\n",
      "9           10          28.1          88.3\n",
      "10          11          28.2          68.3\n",
      "11          12          28.7          96.7\n",
      "12          13          29.0          76.7\n",
      "13          14          29.6          78.3\n",
      "14          15          29.9          60.0\n",
      "15          16          29.9          71.7\n",
      "16          17          30.3          85.0\n",
      "17          18          31.3          85.0\n",
      "18          19          36.0          88.3\n",
      "19          20          39.5         100.0\n",
      "20          21          40.4         100.0\n",
      "21          22          44.3         100.0\n",
      "22          23          44.6          91.7\n",
      "23          24          50.4         100.0\n",
      "24          25          55.9          71.7\n"
     ]
    }
   ],
   "source": [
    "Individual = [i for i in range(1, 26)]\n",
    "Arm_Strength = [17.3, 19.3, 19.5, 19.7, 22.9, 23.1, 26.4, 26.8, 27.6, 28.1, 28.2, 28.7, 29.0, 29.6, 29.9, 29.9, 30.3, 31.3, 36.0, 39.5, 40.4, 44.3, 44.6, 50.4, 55.9]\n",
    "Dynamic_Lift = [71.7, 48.3, 88.3, 75.0, 91.7, 100.0, 73.3, 65.0, 75.0, 88.3, 68.3, 96.7, 76.7, 78.3, 60.0, 71.7, 85.0, 85.0, 88.3, 100.0, 100.0, 100.0, 91.7, 100.0, 71.7]\n",
    "\n",
    "Virginia_Tech_study = pd.DataFrame({'Individual': Individual, 'Arm_Strength': Arm_Strength, 'Dynamic Lift': Dynamic_Lift})\n",
    "print(Virginia_Tech_study)"
   ]
  },
  {
   "cell_type": "code",
   "execution_count": 4,
   "metadata": {},
   "outputs": [
    {
     "data": {
      "text/plain": [
       "Individual      0\n",
       "Arm_Strength    0\n",
       "Dynamic Lift    0\n",
       "dtype: int64"
      ]
     },
     "execution_count": 4,
     "metadata": {},
     "output_type": "execute_result"
    }
   ],
   "source": [
    "Virginia_Tech_study.isnull().sum()"
   ]
  },
  {
   "cell_type": "code",
   "execution_count": 5,
   "metadata": {},
   "outputs": [
    {
     "data": {
      "text/html": [
       "<div>\n",
       "<style scoped>\n",
       "    .dataframe tbody tr th:only-of-type {\n",
       "        vertical-align: middle;\n",
       "    }\n",
       "\n",
       "    .dataframe tbody tr th {\n",
       "        vertical-align: top;\n",
       "    }\n",
       "\n",
       "    .dataframe thead th {\n",
       "        text-align: right;\n",
       "    }\n",
       "</style>\n",
       "<table border=\"1\" class=\"dataframe\">\n",
       "  <thead>\n",
       "    <tr style=\"text-align: right;\">\n",
       "      <th></th>\n",
       "      <th>Individual</th>\n",
       "      <th>Arm_Strength</th>\n",
       "      <th>Dynamic Lift</th>\n",
       "    </tr>\n",
       "  </thead>\n",
       "  <tbody>\n",
       "    <tr>\n",
       "      <th>count</th>\n",
       "      <td>25.000000</td>\n",
       "      <td>25.000000</td>\n",
       "      <td>25.000000</td>\n",
       "    </tr>\n",
       "    <tr>\n",
       "      <th>mean</th>\n",
       "      <td>13.000000</td>\n",
       "      <td>31.148000</td>\n",
       "      <td>82.000000</td>\n",
       "    </tr>\n",
       "    <tr>\n",
       "      <th>std</th>\n",
       "      <td>7.359801</td>\n",
       "      <td>9.867207</td>\n",
       "      <td>14.129549</td>\n",
       "    </tr>\n",
       "    <tr>\n",
       "      <th>min</th>\n",
       "      <td>1.000000</td>\n",
       "      <td>17.300000</td>\n",
       "      <td>48.300000</td>\n",
       "    </tr>\n",
       "    <tr>\n",
       "      <th>25%</th>\n",
       "      <td>7.000000</td>\n",
       "      <td>26.400000</td>\n",
       "      <td>71.700000</td>\n",
       "    </tr>\n",
       "    <tr>\n",
       "      <th>50%</th>\n",
       "      <td>13.000000</td>\n",
       "      <td>29.000000</td>\n",
       "      <td>85.000000</td>\n",
       "    </tr>\n",
       "    <tr>\n",
       "      <th>75%</th>\n",
       "      <td>19.000000</td>\n",
       "      <td>36.000000</td>\n",
       "      <td>91.700000</td>\n",
       "    </tr>\n",
       "    <tr>\n",
       "      <th>max</th>\n",
       "      <td>25.000000</td>\n",
       "      <td>55.900000</td>\n",
       "      <td>100.000000</td>\n",
       "    </tr>\n",
       "  </tbody>\n",
       "</table>\n",
       "</div>"
      ],
      "text/plain": [
       "       Individual  Arm_Strength  Dynamic Lift\n",
       "count   25.000000     25.000000     25.000000\n",
       "mean    13.000000     31.148000     82.000000\n",
       "std      7.359801      9.867207     14.129549\n",
       "min      1.000000     17.300000     48.300000\n",
       "25%      7.000000     26.400000     71.700000\n",
       "50%     13.000000     29.000000     85.000000\n",
       "75%     19.000000     36.000000     91.700000\n",
       "max     25.000000     55.900000    100.000000"
      ]
     },
     "execution_count": 5,
     "metadata": {},
     "output_type": "execute_result"
    }
   ],
   "source": [
    "Virginia_Tech_study.describe()"
   ]
  },
  {
   "cell_type": "code",
   "execution_count": 6,
   "metadata": {},
   "outputs": [
    {
     "data": {
      "image/png": "[encoded data removed]",
      "text/plain": [
       "<Figure size 864x576 with 1 Axes>"
      ]
     },
     "metadata": {
      "needs_background": "light"
     },
     "output_type": "display_data"
    }
   ],
   "source": [
    "f, ax = plt.subplots(1,1, figsize = (12,8))\n",
    "ax = sns.boxplot(x = Virginia_Tech_study['Arm_Strength'])"
   ]
  },
  {
   "cell_type": "code",
   "execution_count": 7,
   "metadata": {},
   "outputs": [
    {
     "data": {
      "image/png": "[encoded data removed]",
      "text/plain": [
       "<Figure size 864x576 with 1 Axes>"
      ]
     },
     "metadata": {
      "needs_background": "light"
     },
     "output_type": "display_data"
    }
   ],
   "source": [
    "f, ax = plt.subplots(1,1,figsize=(12,8))\n",
    "ax = sns.boxplot(x = Virginia_Tech_study['Dynamic Lift'])"
   ]
  },
  {
   "cell_type": "code",
   "execution_count": 8,
   "metadata": {},
   "outputs": [
    {
     "data": {
      "image/png": "[encoded data removed]",
      "text/plain": [
       "<Figure size 864x576 with 1 Axes>"
      ]
     },
     "metadata": {
      "needs_background": "light"
     },
     "output_type": "display_data"
    }
   ],
   "source": [
    "f, ax = plt.subplots(1,1, figsize =(12,8))\n",
    "ax = sns.histplot(x = Virginia_Tech_study['Dynamic Lift'])"
   ]
  },
  {
   "cell_type": "code",
   "execution_count": 16,
   "metadata": {},
   "outputs": [
    {
     "name": "stdout",
     "output_type": "stream",
     "text": [
      "[[0.58160112]]\n",
      "[63.92374863]\n",
      "0.048045694901627134\n"
     ]
    },
    {
     "data": {
      "image/png": "[encoded data removed]",
      "text/plain": [
       "<Figure size 864x576 with 1 Axes>"
      ]
     },
     "metadata": {
      "needs_background": "light"
     },
     "output_type": "display_data"
    }
   ],
   "source": [
    "x = Virginia_Tech_study[['Arm_Strength']]\n",
    "y = Virginia_Tech_study[['Dynamic Lift']]\n",
    "x_train, x_test, y_train, y_test = train_test_split(x, y, train_size = 0.8, test_size = 0.2, random_state = 6)\n",
    "\n",
    "Virginia_model = LinearRegression()\n",
    "Virginia_model.fit(x_train, y_train)\n",
    "y_predict = Virginia_model.predict(x)\n",
    "\n",
    "print(Virginia_model.coef_)\n",
    "print(Virginia_model.intercept_)\n",
    "print(Virginia_model.score(x_test, y_test))\n",
    "\n",
    "plt.subplots(1,1, figsize =(12,8))\n",
    "plt.scatter(x, y, alpha = 0.4)\n",
    "plt.plot(x, y_predict)\n",
    "plt.plot(x, y-y_predict)\n",
    "plt.xlabel(\"Arm Strength\")\n",
    "plt.ylabel(\"Dynamic Lift\")\n",
    "plt.title(\"Arm Strength vs Dynamic Lift with Predicted DL as a line\")\n",
    "plt.show()"
   ]
  },
  {
   "cell_type": "markdown",
   "metadata": {},
   "source": [
    "Note on the graph above:\n",
    "\n",
    "The orange line displays the residuals. The residual is defined as the difference between the Dynamic lift and the predicted dynamic lift. "
   ]
  }
 ],
 "metadata": {
  "kernelspec": {
   "display_name": "Python 3",
   "language": "python",
   "name": "python3"
  },
  "language_info": {
   "codemirror_mode": {
    "name": "ipython",
    "version": 3
   },
   "file_extension": ".py",
   "mimetype": "text/x-python",
   "name": "python",
   "nbconvert_exporter": "python",
   "pygments_lexer": "ipython3",
   "version": "3.8.3"
  }
 },
 "nbformat": 4,
 "nbformat_minor": 4
}
